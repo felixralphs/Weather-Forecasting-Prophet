{
 "cells": [
  {
   "cell_type": "code",
   "execution_count": 1,
   "id": "2fb02a2a-914a-4ad5-af83-21f1c938162d",
   "metadata": {},
   "outputs": [
    {
     "name": "stderr",
     "output_type": "stream",
     "text": [
      "C:\\Users\\FelixRalphs\\anaconda3\\envs\\WeatherForecast\\Lib\\site-packages\\tqdm\\auto.py:21: TqdmWarning: IProgress not found. Please update jupyter and ipywidgets. See https://ipywidgets.readthedocs.io/en/stable/user_install.html\n",
      "  from .autonotebook import tqdm as notebook_tqdm\n",
      "Importing plotly failed. Interactive plots will not work.\n",
      "C:\\Users\\FelixRalphs\\AppData\\Local\\Temp\\ipykernel_19084\\2334411561.py:57: FutureWarning: DataFrame.fillna with 'method' is deprecated and will raise in a future version. Use obj.ffill() or obj.bfill() instead.\n",
      "  data[numeric_columns] = data[numeric_columns].fillna(method='ffill')\n",
      "16:57:50 - cmdstanpy - INFO - Chain [1] start processing\n",
      "16:57:51 - cmdstanpy - INFO - Chain [1] done processing\n",
      "16:57:52 - cmdstanpy - INFO - Chain [1] start processing\n",
      "16:57:53 - cmdstanpy - INFO - Chain [1] done processing\n",
      "16:57:55 - cmdstanpy - INFO - Chain [1] start processing\n",
      "16:57:55 - cmdstanpy - INFO - Chain [1] done processing\n",
      "16:57:57 - cmdstanpy - INFO - Chain [1] start processing\n",
      "16:57:57 - cmdstanpy - INFO - Chain [1] done processing\n",
      "16:57:59 - cmdstanpy - INFO - Chain [1] start processing\n",
      "16:57:59 - cmdstanpy - INFO - Chain [1] done processing\n",
      "16:58:00 - cmdstanpy - INFO - Chain [1] start processing\n",
      "16:58:01 - cmdstanpy - INFO - Chain [1] done processing\n",
      "16:58:02 - cmdstanpy - INFO - Chain [1] start processing\n",
      "16:58:03 - cmdstanpy - INFO - Chain [1] done processing\n",
      "16:58:04 - cmdstanpy - INFO - Chain [1] start processing\n",
      "16:58:05 - cmdstanpy - INFO - Chain [1] done processing\n"
     ]
    },
    {
     "name": "stdout",
     "output_type": "stream",
     "text": [
      "Forecast saved for ARCHERFIELD AIRPORT-BOM-data.csv\n"
     ]
    },
    {
     "name": "stderr",
     "output_type": "stream",
     "text": [
      "C:\\Users\\FelixRalphs\\AppData\\Local\\Temp\\ipykernel_19084\\2334411561.py:57: FutureWarning: DataFrame.fillna with 'method' is deprecated and will raise in a future version. Use obj.ffill() or obj.bfill() instead.\n",
      "  data[numeric_columns] = data[numeric_columns].fillna(method='ffill')\n",
      "16:58:06 - cmdstanpy - INFO - Chain [1] start processing\n",
      "16:58:07 - cmdstanpy - INFO - Chain [1] done processing\n",
      "16:58:08 - cmdstanpy - INFO - Chain [1] start processing\n",
      "16:58:09 - cmdstanpy - INFO - Chain [1] done processing\n",
      "16:58:10 - cmdstanpy - INFO - Chain [1] start processing\n",
      "16:58:11 - cmdstanpy - INFO - Chain [1] done processing\n",
      "16:58:12 - cmdstanpy - INFO - Chain [1] start processing\n",
      "16:58:13 - cmdstanpy - INFO - Chain [1] done processing\n",
      "16:58:14 - cmdstanpy - INFO - Chain [1] start processing\n",
      "16:58:14 - cmdstanpy - INFO - Chain [1] done processing\n",
      "16:58:16 - cmdstanpy - INFO - Chain [1] start processing\n",
      "16:58:16 - cmdstanpy - INFO - Chain [1] done processing\n",
      "16:58:17 - cmdstanpy - INFO - Chain [1] start processing\n",
      "16:58:18 - cmdstanpy - INFO - Chain [1] done processing\n",
      "16:58:19 - cmdstanpy - INFO - Chain [1] start processing\n",
      "16:58:20 - cmdstanpy - INFO - Chain [1] done processing\n"
     ]
    },
    {
     "name": "stdout",
     "output_type": "stream",
     "text": [
      "Forecast saved for BRISBANE AERO-BOM-data.csv\n"
     ]
    },
    {
     "name": "stderr",
     "output_type": "stream",
     "text": [
      "C:\\Users\\FelixRalphs\\AppData\\Local\\Temp\\ipykernel_19084\\2334411561.py:57: FutureWarning: DataFrame.fillna with 'method' is deprecated and will raise in a future version. Use obj.ffill() or obj.bfill() instead.\n",
      "  data[numeric_columns] = data[numeric_columns].fillna(method='ffill')\n",
      "16:58:21 - cmdstanpy - INFO - Chain [1] start processing\n",
      "16:58:22 - cmdstanpy - INFO - Chain [1] done processing\n",
      "16:58:23 - cmdstanpy - INFO - Chain [1] start processing\n",
      "16:58:24 - cmdstanpy - INFO - Chain [1] done processing\n",
      "16:58:25 - cmdstanpy - INFO - Chain [1] start processing\n",
      "16:58:25 - cmdstanpy - INFO - Chain [1] done processing\n",
      "16:58:27 - cmdstanpy - INFO - Chain [1] start processing\n",
      "16:58:27 - cmdstanpy - INFO - Chain [1] done processing\n",
      "16:58:29 - cmdstanpy - INFO - Chain [1] start processing\n",
      "16:58:29 - cmdstanpy - INFO - Chain [1] done processing\n",
      "16:58:31 - cmdstanpy - INFO - Chain [1] start processing\n",
      "16:58:32 - cmdstanpy - INFO - Chain [1] done processing\n",
      "16:58:33 - cmdstanpy - INFO - Chain [1] start processing\n",
      "16:58:34 - cmdstanpy - INFO - Chain [1] done processing\n",
      "16:58:35 - cmdstanpy - INFO - Chain [1] start processing\n",
      "16:58:36 - cmdstanpy - INFO - Chain [1] done processing\n"
     ]
    },
    {
     "name": "stdout",
     "output_type": "stream",
     "text": [
      "Forecast saved for BRISBANE-BOM-data.csv\n"
     ]
    },
    {
     "name": "stderr",
     "output_type": "stream",
     "text": [
      "C:\\Users\\FelixRalphs\\AppData\\Local\\Temp\\ipykernel_19084\\2334411561.py:57: FutureWarning: DataFrame.fillna with 'method' is deprecated and will raise in a future version. Use obj.ffill() or obj.bfill() instead.\n",
      "  data[numeric_columns] = data[numeric_columns].fillna(method='ffill')\n",
      "16:58:37 - cmdstanpy - INFO - Chain [1] start processing\n",
      "16:58:38 - cmdstanpy - INFO - Chain [1] done processing\n",
      "16:58:39 - cmdstanpy - INFO - Chain [1] start processing\n",
      "16:58:40 - cmdstanpy - INFO - Chain [1] done processing\n",
      "16:58:42 - cmdstanpy - INFO - Chain [1] start processing\n",
      "16:58:42 - cmdstanpy - INFO - Chain [1] done processing\n",
      "16:58:43 - cmdstanpy - INFO - Chain [1] start processing\n",
      "16:58:44 - cmdstanpy - INFO - Chain [1] done processing\n",
      "16:58:45 - cmdstanpy - INFO - Chain [1] start processing\n",
      "16:58:46 - cmdstanpy - INFO - Chain [1] done processing\n",
      "16:58:47 - cmdstanpy - INFO - Chain [1] start processing\n",
      "16:58:48 - cmdstanpy - INFO - Chain [1] done processing\n",
      "16:58:49 - cmdstanpy - INFO - Chain [1] start processing\n",
      "16:58:50 - cmdstanpy - INFO - Chain [1] done processing\n",
      "16:58:51 - cmdstanpy - INFO - Chain [1] start processing\n",
      "16:58:51 - cmdstanpy - INFO - Chain [1] done processing\n"
     ]
    },
    {
     "name": "stdout",
     "output_type": "stream",
     "text": [
      "Forecast saved for BYRON BAY (CAPE BYRON)-BOM-data.csv\n"
     ]
    },
    {
     "name": "stderr",
     "output_type": "stream",
     "text": [
      "C:\\Users\\FelixRalphs\\AppData\\Local\\Temp\\ipykernel_19084\\2334411561.py:57: FutureWarning: DataFrame.fillna with 'method' is deprecated and will raise in a future version. Use obj.ffill() or obj.bfill() instead.\n",
      "  data[numeric_columns] = data[numeric_columns].fillna(method='ffill')\n",
      "16:58:53 - cmdstanpy - INFO - Chain [1] start processing\n",
      "16:58:53 - cmdstanpy - INFO - Chain [1] done processing\n",
      "16:58:55 - cmdstanpy - INFO - Chain [1] start processing\n",
      "16:58:55 - cmdstanpy - INFO - Chain [1] done processing\n",
      "16:58:57 - cmdstanpy - INFO - Chain [1] start processing\n",
      "16:58:57 - cmdstanpy - INFO - Chain [1] done processing\n",
      "16:58:59 - cmdstanpy - INFO - Chain [1] start processing\n",
      "16:58:59 - cmdstanpy - INFO - Chain [1] done processing\n",
      "16:59:00 - cmdstanpy - INFO - Chain [1] start processing\n",
      "16:59:01 - cmdstanpy - INFO - Chain [1] done processing\n",
      "16:59:02 - cmdstanpy - INFO - Chain [1] start processing\n",
      "16:59:02 - cmdstanpy - INFO - Chain [1] done processing\n",
      "16:59:04 - cmdstanpy - INFO - Chain [1] start processing\n",
      "16:59:04 - cmdstanpy - INFO - Chain [1] done processing\n",
      "16:59:06 - cmdstanpy - INFO - Chain [1] start processing\n",
      "16:59:06 - cmdstanpy - INFO - Chain [1] done processing\n"
     ]
    },
    {
     "name": "stdout",
     "output_type": "stream",
     "text": [
      "Forecast saved for CANTERBURY RACECOURSE-BOM-data.csv\n"
     ]
    },
    {
     "name": "stderr",
     "output_type": "stream",
     "text": [
      "C:\\Users\\FelixRalphs\\AppData\\Local\\Temp\\ipykernel_19084\\2334411561.py:57: FutureWarning: DataFrame.fillna with 'method' is deprecated and will raise in a future version. Use obj.ffill() or obj.bfill() instead.\n",
      "  data[numeric_columns] = data[numeric_columns].fillna(method='ffill')\n",
      "16:59:08 - cmdstanpy - INFO - Chain [1] start processing\n",
      "16:59:08 - cmdstanpy - INFO - Chain [1] done processing\n",
      "16:59:09 - cmdstanpy - INFO - Chain [1] start processing\n",
      "16:59:09 - cmdstanpy - INFO - Chain [1] done processing\n",
      "16:59:10 - cmdstanpy - INFO - Chain [1] start processing\n",
      "16:59:10 - cmdstanpy - INFO - Chain [1] done processing\n",
      "16:59:11 - cmdstanpy - INFO - Chain [1] start processing\n",
      "16:59:11 - cmdstanpy - INFO - Chain [1] done processing\n",
      "16:59:12 - cmdstanpy - INFO - Chain [1] start processing\n",
      "16:59:12 - cmdstanpy - INFO - Chain [1] done processing\n",
      "16:59:13 - cmdstanpy - INFO - Chain [1] start processing\n",
      "16:59:13 - cmdstanpy - INFO - Chain [1] done processing\n",
      "16:59:14 - cmdstanpy - INFO - Chain [1] start processing\n",
      "16:59:14 - cmdstanpy - INFO - Chain [1] done processing\n",
      "16:59:15 - cmdstanpy - INFO - Chain [1] start processing\n",
      "16:59:15 - cmdstanpy - INFO - Chain [1] done processing\n"
     ]
    },
    {
     "name": "stdout",
     "output_type": "stream",
     "text": [
      "Forecast saved for MOUNT STUART (DEFENCE)-BOM-data.csv\n"
     ]
    },
    {
     "name": "stderr",
     "output_type": "stream",
     "text": [
      "C:\\Users\\FelixRalphs\\AppData\\Local\\Temp\\ipykernel_19084\\2334411561.py:57: FutureWarning: DataFrame.fillna with 'method' is deprecated and will raise in a future version. Use obj.ffill() or obj.bfill() instead.\n",
      "  data[numeric_columns] = data[numeric_columns].fillna(method='ffill')\n",
      "16:59:16 - cmdstanpy - INFO - Chain [1] start processing\n",
      "16:59:17 - cmdstanpy - INFO - Chain [1] done processing\n",
      "16:59:18 - cmdstanpy - INFO - Chain [1] start processing\n",
      "16:59:18 - cmdstanpy - INFO - Chain [1] done processing\n",
      "16:59:19 - cmdstanpy - INFO - Chain [1] start processing\n",
      "16:59:19 - cmdstanpy - INFO - Chain [1] done processing\n",
      "16:59:20 - cmdstanpy - INFO - Chain [1] start processing\n",
      "16:59:21 - cmdstanpy - INFO - Chain [1] done processing\n",
      "16:59:22 - cmdstanpy - INFO - Chain [1] start processing\n",
      "16:59:22 - cmdstanpy - INFO - Chain [1] done processing\n",
      "16:59:23 - cmdstanpy - INFO - Chain [1] start processing\n",
      "16:59:23 - cmdstanpy - INFO - Chain [1] done processing\n",
      "16:59:25 - cmdstanpy - INFO - Chain [1] start processing\n",
      "16:59:25 - cmdstanpy - INFO - Chain [1] done processing\n",
      "16:59:26 - cmdstanpy - INFO - Chain [1] start processing\n",
      "16:59:26 - cmdstanpy - INFO - Chain [1] done processing\n"
     ]
    },
    {
     "name": "stdout",
     "output_type": "stream",
     "text": [
      "Forecast saved for NAMBOUR DAFF - HILLSIDE-BOM-data.csv\n"
     ]
    },
    {
     "name": "stderr",
     "output_type": "stream",
     "text": [
      "C:\\Users\\FelixRalphs\\AppData\\Local\\Temp\\ipykernel_19084\\2334411561.py:57: FutureWarning: DataFrame.fillna with 'method' is deprecated and will raise in a future version. Use obj.ffill() or obj.bfill() instead.\n",
      "  data[numeric_columns] = data[numeric_columns].fillna(method='ffill')\n",
      "16:59:28 - cmdstanpy - INFO - Chain [1] start processing\n",
      "16:59:28 - cmdstanpy - INFO - Chain [1] done processing\n",
      "16:59:29 - cmdstanpy - INFO - Chain [1] start processing\n",
      "16:59:30 - cmdstanpy - INFO - Chain [1] done processing\n",
      "16:59:32 - cmdstanpy - INFO - Chain [1] start processing\n",
      "16:59:32 - cmdstanpy - INFO - Chain [1] done processing\n",
      "16:59:33 - cmdstanpy - INFO - Chain [1] start processing\n",
      "16:59:34 - cmdstanpy - INFO - Chain [1] done processing\n",
      "16:59:35 - cmdstanpy - INFO - Chain [1] start processing\n",
      "16:59:36 - cmdstanpy - INFO - Chain [1] done processing\n",
      "16:59:37 - cmdstanpy - INFO - Chain [1] start processing\n",
      "16:59:38 - cmdstanpy - INFO - Chain [1] done processing\n",
      "16:59:39 - cmdstanpy - INFO - Chain [1] start processing\n",
      "16:59:40 - cmdstanpy - INFO - Chain [1] done processing\n",
      "16:59:41 - cmdstanpy - INFO - Chain [1] start processing\n",
      "16:59:42 - cmdstanpy - INFO - Chain [1] done processing\n"
     ]
    },
    {
     "name": "stdout",
     "output_type": "stream",
     "text": [
      "Forecast saved for SUNSHINE COAST AIRPORT-BOM-data.csv\n"
     ]
    },
    {
     "name": "stderr",
     "output_type": "stream",
     "text": [
      "C:\\Users\\FelixRalphs\\AppData\\Local\\Temp\\ipykernel_19084\\2334411561.py:57: FutureWarning: DataFrame.fillna with 'method' is deprecated and will raise in a future version. Use obj.ffill() or obj.bfill() instead.\n",
      "  data[numeric_columns] = data[numeric_columns].fillna(method='ffill')\n",
      "16:59:43 - cmdstanpy - INFO - Chain [1] start processing\n",
      "16:59:44 - cmdstanpy - INFO - Chain [1] done processing\n",
      "16:59:45 - cmdstanpy - INFO - Chain [1] start processing\n",
      "16:59:45 - cmdstanpy - INFO - Chain [1] done processing\n",
      "16:59:47 - cmdstanpy - INFO - Chain [1] start processing\n",
      "16:59:47 - cmdstanpy - INFO - Chain [1] done processing\n",
      "16:59:48 - cmdstanpy - INFO - Chain [1] start processing\n",
      "16:59:49 - cmdstanpy - INFO - Chain [1] done processing\n",
      "16:59:50 - cmdstanpy - INFO - Chain [1] start processing\n",
      "16:59:50 - cmdstanpy - INFO - Chain [1] done processing\n",
      "16:59:53 - cmdstanpy - INFO - Chain [1] start processing\n",
      "16:59:53 - cmdstanpy - INFO - Chain [1] done processing\n",
      "16:59:54 - cmdstanpy - INFO - Chain [1] start processing\n",
      "16:59:54 - cmdstanpy - INFO - Chain [1] done processing\n"
     ]
    },
    {
     "name": "stdout",
     "output_type": "stream",
     "text": [
      "Forecast saved for SYDNEY (OBSERVATORY HILL)-BOM-data.csv\n"
     ]
    },
    {
     "name": "stderr",
     "output_type": "stream",
     "text": [
      "C:\\Users\\FelixRalphs\\AppData\\Local\\Temp\\ipykernel_19084\\2334411561.py:57: FutureWarning: DataFrame.fillna with 'method' is deprecated and will raise in a future version. Use obj.ffill() or obj.bfill() instead.\n",
      "  data[numeric_columns] = data[numeric_columns].fillna(method='ffill')\n",
      "16:59:56 - cmdstanpy - INFO - Chain [1] start processing\n",
      "16:59:57 - cmdstanpy - INFO - Chain [1] done processing\n",
      "16:59:58 - cmdstanpy - INFO - Chain [1] start processing\n",
      "16:59:59 - cmdstanpy - INFO - Chain [1] done processing\n",
      "17:00:00 - cmdstanpy - INFO - Chain [1] start processing\n",
      "17:00:01 - cmdstanpy - INFO - Chain [1] done processing\n",
      "17:00:02 - cmdstanpy - INFO - Chain [1] start processing\n",
      "17:00:02 - cmdstanpy - INFO - Chain [1] done processing\n",
      "17:00:04 - cmdstanpy - INFO - Chain [1] start processing\n",
      "17:00:04 - cmdstanpy - INFO - Chain [1] done processing\n",
      "17:00:06 - cmdstanpy - INFO - Chain [1] start processing\n",
      "17:00:06 - cmdstanpy - INFO - Chain [1] done processing\n",
      "17:00:07 - cmdstanpy - INFO - Chain [1] start processing\n",
      "17:00:08 - cmdstanpy - INFO - Chain [1] done processing\n",
      "17:00:09 - cmdstanpy - INFO - Chain [1] start processing\n",
      "17:00:10 - cmdstanpy - INFO - Chain [1] done processing\n"
     ]
    },
    {
     "name": "stdout",
     "output_type": "stream",
     "text": [
      "Forecast saved for SYDNEY AIRPORT AMO-BOM-data.csv\n"
     ]
    },
    {
     "name": "stderr",
     "output_type": "stream",
     "text": [
      "C:\\Users\\FelixRalphs\\AppData\\Local\\Temp\\ipykernel_19084\\2334411561.py:57: FutureWarning: DataFrame.fillna with 'method' is deprecated and will raise in a future version. Use obj.ffill() or obj.bfill() instead.\n",
      "  data[numeric_columns] = data[numeric_columns].fillna(method='ffill')\n",
      "17:00:11 - cmdstanpy - INFO - Chain [1] start processing\n",
      "17:00:12 - cmdstanpy - INFO - Chain [1] done processing\n",
      "17:00:13 - cmdstanpy - INFO - Chain [1] start processing\n",
      "17:00:14 - cmdstanpy - INFO - Chain [1] done processing\n",
      "17:00:16 - cmdstanpy - INFO - Chain [1] start processing\n",
      "17:00:16 - cmdstanpy - INFO - Chain [1] done processing\n",
      "17:00:18 - cmdstanpy - INFO - Chain [1] start processing\n",
      "17:00:19 - cmdstanpy - INFO - Chain [1] done processing\n",
      "17:00:20 - cmdstanpy - INFO - Chain [1] start processing\n",
      "17:00:21 - cmdstanpy - INFO - Chain [1] done processing\n",
      "17:00:22 - cmdstanpy - INFO - Chain [1] start processing\n",
      "17:00:23 - cmdstanpy - INFO - Chain [1] done processing\n",
      "17:00:24 - cmdstanpy - INFO - Chain [1] start processing\n",
      "17:00:25 - cmdstanpy - INFO - Chain [1] done processing\n",
      "17:00:26 - cmdstanpy - INFO - Chain [1] start processing\n",
      "17:00:26 - cmdstanpy - INFO - Chain [1] done processing\n"
     ]
    },
    {
     "name": "stdout",
     "output_type": "stream",
     "text": [
      "Forecast saved for TEWANTIN RSL PARK-BOM-data.csv\n"
     ]
    },
    {
     "name": "stderr",
     "output_type": "stream",
     "text": [
      "C:\\Users\\FelixRalphs\\AppData\\Local\\Temp\\ipykernel_19084\\2334411561.py:57: FutureWarning: DataFrame.fillna with 'method' is deprecated and will raise in a future version. Use obj.ffill() or obj.bfill() instead.\n",
      "  data[numeric_columns] = data[numeric_columns].fillna(method='ffill')\n",
      "17:00:28 - cmdstanpy - INFO - Chain [1] start processing\n",
      "17:00:29 - cmdstanpy - INFO - Chain [1] done processing\n",
      "17:00:30 - cmdstanpy - INFO - Chain [1] start processing\n",
      "17:00:31 - cmdstanpy - INFO - Chain [1] done processing\n",
      "17:00:33 - cmdstanpy - INFO - Chain [1] start processing\n",
      "17:00:33 - cmdstanpy - INFO - Chain [1] done processing\n",
      "17:00:35 - cmdstanpy - INFO - Chain [1] start processing\n",
      "17:00:36 - cmdstanpy - INFO - Chain [1] done processing\n",
      "17:00:37 - cmdstanpy - INFO - Chain [1] start processing\n",
      "17:00:37 - cmdstanpy - INFO - Chain [1] done processing\n",
      "17:00:39 - cmdstanpy - INFO - Chain [1] start processing\n",
      "17:00:39 - cmdstanpy - INFO - Chain [1] done processing\n",
      "17:00:41 - cmdstanpy - INFO - Chain [1] start processing\n",
      "17:00:41 - cmdstanpy - INFO - Chain [1] done processing\n",
      "17:00:43 - cmdstanpy - INFO - Chain [1] start processing\n",
      "17:00:43 - cmdstanpy - INFO - Chain [1] done processing\n"
     ]
    },
    {
     "name": "stdout",
     "output_type": "stream",
     "text": [
      "Forecast saved for TOWNSVILLE AERO-BOM-data.csv\n",
      "Forecasting completed.\n"
     ]
    }
   ],
   "source": [
    "import os\n",
    "import pandas as pd\n",
    "from prophet import Prophet\n",
    "import matplotlib.pyplot as plt\n",
    "\n",
    "# Input and output folder paths\n",
    "input_folder_path = r\"File_Path_Input\"\n",
    "output_folder_path = r\"File_Path_Output\"\n",
    "\n",
    "# Ensure the output folder exists, create it if not\n",
    "if not os.path.exists(output_folder_path):\n",
    "    os.makedirs(output_folder_path)\n",
    "\n",
    "# Loop through each file in the input folder\n",
    "for file_name in os.listdir(input_folder_path):\n",
    "    if file_name.endswith(\".csv\"):\n",
    "        # Build the full file paths\n",
    "        file_path = os.path.join(input_folder_path, file_name)\n",
    "        output_file_path = os.path.join(output_folder_path, f\"{os.path.splitext(file_name)[0]}_FORECAST.csv\")\n",
    "\n",
    "        # Load the CSV file into a DataFrame with a specified encoding\n",
    "        data = pd.read_csv(file_path, encoding='ISO-8859-1')\n",
    "\n",
    "        # Convert 'Date' to datetime type\n",
    "        data['Date'] = pd.to_datetime(data['Date'])\n",
    "\n",
    "        # List of columns to forecast\n",
    "        forecast_columns = [\n",
    "            'Minimum Temperature (°C)',\n",
    "            'Maximum Temperature (°C)',\n",
    "            'Minimum Relative Humidity (%)',\n",
    "            'Maximum Relative Humidity (%)',\n",
    "            'Rainfall (mm)',\n",
    "            'Average 10m Wind Speed (m/sec)',\n",
    "            'Evapo-Transpiration (mm)',\n",
    "            'Solar Radiation (MJ/sq m)'\n",
    "        ]\n",
    "\n",
    "        # Convert numeric columns to numeric data type\n",
    "        numeric_columns = [\n",
    "            'Minimum Temperature (°C)',\n",
    "            'Maximum Temperature (°C)',\n",
    "            'Minimum Relative Humidity (%)',\n",
    "            'Maximum Relative Humidity (%)',\n",
    "            'Rainfall (mm)',\n",
    "            'Average 10m Wind Speed (m/sec)',\n",
    "            'Evapo-Transpiration (mm)',\n",
    "            'Solar Radiation (MJ/sq m)'\n",
    "        ]\n",
    "\n",
    "        # Remove unwanted columns (Latitude, Longitude, Station Point, State)\n",
    "        data = data[['Date', 'Station Name'] + forecast_columns]\n",
    "\n",
    "        data[numeric_columns] = data[numeric_columns].apply(pd.to_numeric, errors='coerce')\n",
    "\n",
    "        # Replace null values with the value from the row above\n",
    "        data[numeric_columns] = data[numeric_columns].fillna(method='ffill')\n",
    "\n",
    "        # Initialize an empty list to store DataFrames and Figures\n",
    "        forecast_dfs = []\n",
    "\n",
    "        # Loop through each column and create a separate forecast\n",
    "        for column in forecast_columns:\n",
    "            # Prepare the data in the required format for Prophet\n",
    "            prophet_data = data[['Date', 'Station Name', column]].rename(columns={'Date': 'ds', 'Station Name': 'station', column: 'y'})\n",
    "\n",
    "            # Initialize the Prophet model\n",
    "            model = Prophet()\n",
    "\n",
    "            # Fit the model with the data\n",
    "            model.fit(prophet_data)\n",
    "\n",
    "            # Create a DataFrame with future dates for prediction\n",
    "            future = model.make_future_dataframe(periods=365 * 5)  # 5 years forecast\n",
    "\n",
    "            # Generate the forecast\n",
    "            forecast = model.predict(future)\n",
    "\n",
    "            # Append the forecast DataFrame to the list\n",
    "            forecast_dfs.append(forecast[['ds', 'yhat', 'yhat_lower', 'yhat_upper']].rename(columns={'yhat': f'{column} Forecast', 'yhat_lower': f'{column} Lower', 'yhat_upper': f'{column} Upper'}))\n",
    "\n",
    "        # Combine all forecasts into a single DataFrame\n",
    "        forecast_combined = pd.concat([df.set_index('ds') for df in forecast_dfs], axis=1)\n",
    "\n",
    "        # Reset the index to make 'ds' a regular column\n",
    "        forecast_combined = forecast_combined.reset_index()\n",
    "\n",
    "        # Merge the 'station' and the forecasted DataFrames on the index\n",
    "        forecast_combined = pd.merge(data[['Date', 'Station Name']], forecast_combined, left_on='Date', right_on='ds', how='right')\n",
    "\n",
    "        # Drop the redundant 'ds' column\n",
    "        forecast_combined = forecast_combined.drop(columns=['ds'])\n",
    "\n",
    "        # Save the combined forecast DataFrame to a CSV file in the Forecast folder\n",
    "        forecast_combined.to_csv(output_file_path, index=False)\n",
    "\n",
    "        print(f\"Forecast saved for {file_name}\")\n",
    "\n",
    "print(\"Forecasting completed.\")\n"
   ]
  }
 ],
 "metadata": {
  "kernelspec": {
   "display_name": "Python 3 (ipykernel)",
   "language": "python",
   "name": "python3"
  },
  "language_info": {
   "codemirror_mode": {
    "name": "ipython",
    "version": 3
   },
   "file_extension": ".py",
   "mimetype": "text/x-python",
   "name": "python",
   "nbconvert_exporter": "python",
   "pygments_lexer": "ipython3",
   "version": "3.11.5"
  }
 },
 "nbformat": 4,
 "nbformat_minor": 5
}
